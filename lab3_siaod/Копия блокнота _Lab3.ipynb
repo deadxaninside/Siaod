{
 "cells": [
  {
   "cell_type": "markdown",
   "metadata": {
    "id": "0z3KlfKDn4_K"
   },
   "source": [
    "# Лабораторная работа 3. \n",
    "# Сетевые алгоритмы. Динамические алгоритмы поиска путей.\n"
   ]
  },
  {
   "cell_type": "markdown",
   "metadata": {
    "id": "96Gi_LEvmSVH"
   },
   "source": [
    "## Выполнил студент группы БПИ2305 Афимина София \n",
    "***"
   ]
  },
  {
   "cell_type": "markdown",
   "metadata": {
    "id": "GjdIp8aToKIe"
   },
   "source": [
    "### Задание\n",
    "\n",
    "1.  Реализовать алгоритм поиска кратчайшего расстояния между двумя вершинами ориентированного взвешенного графа в соответствии с вариантом. \n",
    "\n",
    "2.  Предусмотреть задание графа в виде матрицы смежности/инцидентности, читаемой из файла, либо графически с помощью пользовательского интерфейса. \n",
    "\n",
    "3.  Разработать графический интерфейс пользователя с визуализацией графа и отображением кратчайшего расстояния между задаваемыми пользователем вершинами.\n",
    "\n",
    "4. По результатам работы проанализировать временную сложность работы заданного алгоритма в зависимости от числа узлов и ребер графа.\n",
    "Данные представить в виде таблицы.\n",
    "\n"
   ]
  },
  {
   "cell_type": "markdown",
   "metadata": {
    "id": "LhhUXrAmotIA"
   },
   "source": [
    "### Алгоритмы:\n",
    "\n",
    "Алгоритм Флойда-Уоршелла| Алгоритм Дейкстры | Алгоритм Беллмана-Форда | Алгоритм Джонсона| Алгоритм Левита | Алгоритм Йена\n",
    "\n"
   ]
  },
  {
   "cell_type": "markdown",
   "metadata": {
    "id": "Wggfn8l7nG72"
   },
   "source": [
    "### Выполнение:"
   ]
  },
  {
   "cell_type": "code",
   "execution_count": null,
   "metadata": {
    "id": "681a95mZnOSa"
   },
   "outputs": [],
   "source": [
    "import heapq\n",
    "\n",
    "def dijkstra(graph, start, end):\n",
    "    distances = {vertex: float('infinity') for vertex in graph}\n",
    "    distances[start] = 0\n",
    "    \n",
    "    priority_queue = [(0, start)]\n",
    "    \n",
    "    while priority_queue:\n",
    "        current_distance, current_vertex = heapq.heappop(priority_queue)\n",
    "        \n",
    "        if current_distance > distances[current_vertex]:\n",
    "            continue\n",
    "            \n",
    "        for neighbor, weight in graph[current_vertex].items():\n",
    "            distance = current_distance + weight\n",
    "            \n",
    "            if distance < distances[neighbor]:\n",
    "                distances[neighbor] = distance\n",
    "                heapq.heappush(priority_queue, (distance, neighbor))\n",
    "    \n",
    "    return distances[end] if distances[end] != float('infinity') else None\n",
    "\n",
    "# алгоритм Дейкстры"
   ]
  },
  {
   "cell_type": "code",
   "execution_count": 1,
   "metadata": {},
   "outputs": [
    {
     "data": {
      "image/png": "[encoded data removed]",
      "text/plain": [
       "<Figure size 600x400 with 1 Axes>"
      ]
     },
     "metadata": {},
     "output_type": "display_data"
    }
   ],
   "source": [
    "import heapq\n",
    "import tkinter as tk\n",
    "from tkinter import filedialog, messagebox\n",
    "import networkx as nx\n",
    "import matplotlib.pyplot as plt\n",
    "from matplotlib.backends.backend_tkagg import FigureCanvasTkAgg\n",
    "\n",
    "class GraphGUI:\n",
    "    def __init__(self, master):\n",
    "        self.master = master\n",
    "        self.master.title(\"Поиск кратчайшего пути (Дейкстра)\")\n",
    "        \n",
    "    \n",
    "        self.control_frame = tk.Frame(master)\n",
    "        self.control_frame.pack(side=tk.TOP, fill=tk.X)\n",
    "        \n",
    "        self.canvas_frame = tk.Frame(master)\n",
    "        self.canvas_frame.pack(side=tk.BOTTOM, fill=tk.BOTH, expand=True)\n",
    "       \n",
    "       \n",
    "        self.load_button = tk.Button(self.control_frame, text=\"Загрузить граф\", command=self.load_graph)\n",
    "        self.load_button.pack(side=tk.LEFT, padx=5, pady=5)\n",
    "        \n",
    "        self.start_label = tk.Label(self.control_frame, text=\"Начальная вершина:\")\n",
    "        self.start_label.pack(side=tk.LEFT, padx=5)\n",
    "        self.start_entry = tk.Entry(self.control_frame, width=10)\n",
    "        self.start_entry.pack(side=tk.LEFT, padx=5)\n",
    "        \n",
    "        self.end_label = tk.Label(self.control_frame, text=\"Конечная вершина:\")\n",
    "        self.end_label.pack(side=tk.LEFT, padx=5)\n",
    "        self.end_entry = tk.Entry(self.control_frame, width=10)\n",
    "        self.end_entry.pack(side=tk.LEFT, padx=5)\n",
    "        \n",
    "        self.find_button = tk.Button(self.control_frame, text=\"Найти путь\", command=self.find_shortest_path)\n",
    "        self.find_button.pack(side=tk.LEFT, padx=5)\n",
    "        \n",
    "        \n",
    "        self.figure = plt.figure(figsize=(6, 4), dpi=100)\n",
    "        self.canvas = FigureCanvasTkAgg(self.figure, master=self.canvas_frame)\n",
    "        self.canvas.get_tk_widget().pack(fill=tk.BOTH, expand=True)\n",
    "        \n",
    "        self.graph = nx.DiGraph()\n",
    "        self.pos = None\n",
    "        self.shortest_path = None\n",
    "        \n",
    "    def load_graph(self):\n",
    "        file_path = filedialog.askopenfilename(filetypes=[(\"Text files\", \"*.txt\")])\n",
    "        if not file_path:\n",
    "            return\n",
    "        \n",
    "        self.graph.clear()\n",
    "        try:\n",
    "            with open(file_path, 'r') as f:\n",
    "                for line in f:\n",
    "                    parts = line.strip().split()\n",
    "                    if len(parts) == 3:\n",
    "                        u, v, w = parts\n",
    "                        self.graph.add_edge(u, v, weight=float(w))\n",
    "            \n",
    "            self.draw_graph()\n",
    "            messagebox.showinfo(\"Успех\", \"Граф успешно загружен!\")\n",
    "        except Exception as e:\n",
    "            messagebox.showerror(\"Ошибка\", f\"Ошибка при загрузке файла: {str(e)}\")\n",
    "    \n",
    "    def draw_graph(self):\n",
    "        self.figure.clf()\n",
    "        ax = self.figure.add_subplot(111)\n",
    "        \n",
    "        self.pos = nx.spring_layout(self.graph)\n",
    "        \n",
    "        nx.draw(self.graph, self.pos, ax=ax, with_labels=True, node_color='lightblue', \n",
    "                node_size=500, font_size=10, arrows=True)\n",
    "    \n",
    "        edge_labels = nx.get_edge_attributes(self.graph, 'weight')\n",
    "        nx.draw_networkx_edge_labels(self.graph, self.pos, ax=ax, edge_labels=edge_labels)\n",
    "        \n",
    "        if self.shortest_path:\n",
    "            path_edges = list(zip(self.shortest_path, self.shortest_path[1:]))\n",
    "            nx.draw_networkx_nodes(self.graph, self.pos, ax=ax, nodelist=self.shortest_path, \n",
    "                                 node_color='red')\n",
    "            nx.draw_networkx_edges(self.graph, self.pos, ax=ax, edgelist=path_edges, \n",
    "                                 edge_color='red', width=2)\n",
    "        \n",
    "        self.canvas.draw()\n",
    "    \n",
    "    def dijkstra(self, start, end):\n",
    "        distances = {node: float('infinity') for node in self.graph.nodes()}\n",
    "        previous_nodes = {node: None for node in self.graph.nodes()}\n",
    "        distances[start] = 0\n",
    "        \n",
    "        priority_queue = [(0, start)]\n",
    "        \n",
    "        while priority_queue:\n",
    "            current_distance, current_node = heapq.heappop(priority_queue)\n",
    "            \n",
    "            if current_node == end:\n",
    "                break\n",
    "                \n",
    "            if current_distance > distances[current_node]:\n",
    "                continue\n",
    "                \n",
    "            for neighbor, data in self.graph[current_node].items():\n",
    "                weight = data['weight']\n",
    "                distance = current_distance + weight\n",
    "                \n",
    "                if distance < distances[neighbor]:\n",
    "                    distances[neighbor] = distance\n",
    "                    previous_nodes[neighbor] = current_node\n",
    "                    heapq.heappush(priority_queue, (distance, neighbor))\n",
    "        \n",
    "        path = []\n",
    "        current_node = end\n",
    "        while previous_nodes[current_node] is not None:\n",
    "            path.insert(0, current_node)\n",
    "            current_node = previous_nodes[current_node]\n",
    "        if path:\n",
    "            path.insert(0, current_node)\n",
    "        \n",
    "        return path, distances.get(end, float('infinity'))\n",
    "    \n",
    "    def find_shortest_path(self):\n",
    "        start_node = self.start_entry.get()\n",
    "        end_node = self.end_entry.get()\n",
    "        \n",
    "        if not start_node or not end_node:\n",
    "            messagebox.showerror(\"Ошибка\", \"Введите начальную и конечную вершины\")\n",
    "            return\n",
    "            \n",
    "        if start_node not in self.graph.nodes() or end_node not in self.graph.nodes():\n",
    "            messagebox.showerror(\"Ошибка\", \"Указанные вершины не существуют в графе\")\n",
    "            return\n",
    "            \n",
    "        self.shortest_path, distance = self.dijkstra(start_node, end_node)\n",
    "        \n",
    "        if distance == float('infinity'):\n",
    "            messagebox.showinfo(\"Результат\", f\"Пути между {start_node} и {end_node} не существует\")\n",
    "        else:\n",
    "            messagebox.showinfo(\"Результат\", \n",
    "                              f\"Кратчайший путь: {' -> '.join(self.shortest_path)}\\n\"\n",
    "                              f\"Длина пути: {distance}\")\n",
    "            self.draw_graph()\n",
    "\n",
    "if __name__ == \"__main__\":\n",
    "    root = tk.Tk()\n",
    "    app = GraphGUI(root)\n",
    "    root.mainloop()"
   ]
  },
  {
   "cell_type": "markdown",
   "metadata": {
    "id": "diOb-K7LnO5a"
   },
   "source": [
    "### Вывод"
   ]
  }
 ],
 "metadata": {
  "colab": {
   "provenance": [
    {
     "file_id": "1PB29AfCQqtCPpQJrN1jpaKF1cw_5iEo0",
     "timestamp": 1679127006477
    }
   ]
  },
  "kernelspec": {
   "display_name": "Python 3",
   "language": "python",
   "name": "python3"
  },
  "language_info": {
   "codemirror_mode": {
    "name": "ipython",
    "version": 3
   },
   "file_extension": ".py",
   "mimetype": "text/x-python",
   "name": "python",
   "nbconvert_exporter": "python",
   "pygments_lexer": "ipython3",
   "version": "3.13.2"
  }
 },
 "nbformat": 4,
 "nbformat_minor": 0
}
