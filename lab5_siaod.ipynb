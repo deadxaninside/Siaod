{
 "cells": [
  {
   "cell_type": "markdown",
   "id": "db4b50f0",
   "metadata": {
    "id": "db4b50f0"
   },
   "source": [
    "# Лабораторная работа №5\n",
    "## Выполнил студент группы ФИО ГРУППА"
   ]
  },
  {
   "cell_type": "markdown",
   "id": "annual-symbol",
   "metadata": {
    "id": "annual-symbol"
   },
   "source": [
    "### Оглавление\n",
    "1. [Задание 1](#Задание-№1)\n",
    "2. [Задание 2](#Задание-№2)\n",
    "4. [Вывод](#Вывод)"
   ]
  },
  {
   "cell_type": "markdown",
   "id": "independent-spirit",
   "metadata": {
    "id": "independent-spirit"
   },
   "source": [
    "> Дополнительные модули, использованные при выполнение лабораторной"
   ]
  },
  {
   "cell_type": "code",
   "execution_count": null,
   "id": "4839be2b",
   "metadata": {
    "id": "4839be2b"
   },
   "outputs": [],
   "source": [
    "# Необходим при замере скорости выполнения кода\n",
    "from datetime import datetime as t\n",
    "# Нужен для создания словаря в алг. Бойера-Мура\n",
    "from collections import defaultdict"
   ]
  },
  {
   "cell_type": "markdown",
   "id": "inclusive-motorcycle",
   "metadata": {
    "id": "inclusive-motorcycle"
   },
   "source": [
    "### Задание №1\n",
    "Реализовать методы поиска подстроки в строке. Добавить возможность ввода строки и подстроки с клавиатуры. Предусмотреть возможность существования пробела. Реализовать возможность выбора опции чувствительности или нечувствительности к регистру. Оценить время работы каждого алгоритма поиска и сравнить его со временем работы стандартной функции поиска, используемой в выбранном языке программирования."
   ]
  },
  {
   "cell_type": "markdown",
   "id": "interracial-communication",
   "metadata": {
    "id": "interracial-communication"
   },
   "source": [
    "#### Алгоритм Кнута-Морриса-Пратта"
   ]
  },
  {
   "cell_type": "code",
   "execution_count": 7,
   "id": "presidential-level",
   "metadata": {
    "id": "presidential-level"
   },
   "outputs": [
    {
     "name": "stdout",
     "output_type": "stream",
     "text": [
      "Позиции вхождения (KMP): [0]\n",
      "Время работы: 0.000202 сек\n"
     ]
    }
   ],
   "source": [
    "def build_lps(pattern):\n",
    "    lps = [0] * len(pattern)\n",
    "    length = 0\n",
    "    i = 1\n",
    "    while i < len(pattern):\n",
    "        if pattern[i] == pattern[length]:\n",
    "            length += 1\n",
    "            lps[i] = length\n",
    "            i += 1\n",
    "        else:\n",
    "            if length != 0:\n",
    "                length = lps[length - 1]\n",
    "            else:\n",
    "                lps[i] = 0\n",
    "                i += 1\n",
    "    return lps\n",
    "\n",
    "def kmp_search(text, pattern):\n",
    "    lps = build_lps(pattern)\n",
    "    res = []\n",
    "    i = j = 0\n",
    "    while i < len(text):\n",
    "        if pattern[j] == text[i]:\n",
    "            i += 1\n",
    "            j += 1\n",
    "        if j == len(pattern):\n",
    "            res.append(i - j)\n",
    "            j = lps[j - 1]\n",
    "        elif i < len(text) and pattern[j] != text[i]:\n",
    "            if j != 0:\n",
    "                j = lps[j - 1]\n",
    "            else:\n",
    "                i += 1\n",
    "    return res\n",
    "\n",
    "# Основная часть программы\n",
    "def main():\n",
    "    text = input(\"Введите строку: \")\n",
    "    pattern = input(\"Введите подстроку для поиска: \")\n",
    "    case = input(\"Учитывать регистр? (да/нет): \").lower()\n",
    "\n",
    "    if case == \"нет\":\n",
    "        text = text.lower()\n",
    "        pattern = pattern.lower()\n",
    "\n",
    "    start = t.now()\n",
    "    result = kmp_search(text, pattern)\n",
    "    print(f\"Позиции вхождения (KMP): {result}\")\n",
    "    print(\"Время работы:\", (t.now() - start).total_seconds(), \"сек\")\n",
    "\n",
    "if __name__ == \"__main__\":\n",
    "    main()"
   ]
  },
  {
   "cell_type": "markdown",
   "id": "downtown-option",
   "metadata": {
    "id": "downtown-option"
   },
   "source": [
    "#### Упрощенный алгоритм Бойера-Мура"
   ]
  },
  {
   "cell_type": "code",
   "execution_count": 24,
   "id": "respective-reggae",
   "metadata": {
    "id": "respective-reggae"
   },
   "outputs": [
    {
     "name": "stdout",
     "output_type": "stream",
     "text": [
      "Позиции вхождения (Boyer-Moore): [0]\n",
      "Время работы: 0.000199 сек\n"
     ]
    }
   ],
   "source": [
    "from datetime import datetime as t\n",
    "from collections import defaultdict\n",
    "\n",
    "def bm_search(text, pattern):\n",
    "    last = defaultdict(lambda: -1)\n",
    "    for i in range(len(pattern)):\n",
    "        last[pattern[i]] = i\n",
    "\n",
    "    res = []\n",
    "    i = 0\n",
    "    while i <= len(text) - len(pattern):\n",
    "        j = len(pattern) - 1\n",
    "        while j >= 0 and pattern[j] == text[i + j]:\n",
    "            j -= 1\n",
    "        if j < 0:\n",
    "            res.append(i)\n",
    "            i += 1\n",
    "        else:\n",
    "            shift = j - last[text[i + j]]\n",
    "            i += max(1, shift)\n",
    "    return res\n",
    "\n",
    "# Основная часть программы\n",
    "def main():\n",
    "    text = input(\"Введите строку: \")\n",
    "    pattern = input(\"Введите подстроку для поиска: \")\n",
    "    case = input(\"Учитывать регистр? (да/нет): \").lower()\n",
    "\n",
    "    if case == \"нет\":\n",
    "        text = text.lower()\n",
    "        pattern = pattern.lower()\n",
    "\n",
    "    start = t.now()\n",
    "    result = bm_search(text, pattern)\n",
    "    print(f\"Позиции вхождения (Boyer-Moore): {result}\")\n",
    "    print(\"Время работы:\", (t.now() - start).total_seconds(), \"сек\")\n",
    "\n",
    "if __name__ == \"__main__\":\n",
    "    main()"
   ]
  },
  {
   "cell_type": "markdown",
   "id": "hybrid-memorial",
   "metadata": {
    "id": "hybrid-memorial"
   },
   "source": [
    "### Задание №2\n",
    "Написать программу, определяющую, является ли данное\n",
    "расположение «решаемым», то есть можно ли из него за конечное число\n",
    "шагов перейти к правильному. Если это возможно, то необходимо найти хотя\n",
    "бы одно решение - последовательность движений, после которой числа будут\n",
    "расположены в правильном порядке.\n",
    "#### Входные данные: массив чисел, представляющий собой расстановку в\n",
    "Порядке «слева направо, сверху вниз». Число 0 обозначает пустое поле.\n",
    "Например, массив [1, 2, 3, 4, 5, 6, 7, 8, 9, 10, 11, 12, 13, 14, 15, 0] представляет\n",
    "собой «решенную» позицию элементов.\n",
    "#### Выходные данные: если решения нет, то функция должна вернуть\n",
    "Пустой массив []. Если решение есть, то необходимо представить решение —\n",
    "для каждого шага записывается номер передвигаемого на данном шаге\n",
    "элемента. "
   ]
  },
  {
   "cell_type": "code",
   "execution_count": 19,
   "id": "eleven-generic",
   "metadata": {
    "id": "eleven-generic"
   },
   "outputs": [
    {
     "name": "stdout",
     "output_type": "stream",
     "text": [
      "Решение найдено за 0:00:00.000269\n",
      "Решение найдено. Последовательность передвигаемых плиток:\n",
      "[15]\n"
     ]
    }
   ],
   "source": [
    "from heapq import heappop, heappush\n",
    "from datetime import datetime as t\n",
    "\n",
    "GOAL_STATE = tuple([1, 2, 3, 4,\n",
    "                    5, 6, 7, 8,\n",
    "                    9, 10, 11, 12,\n",
    "                    13, 14, 15, 0])\n",
    "\n",
    "MOVES = {\n",
    "    'up': -4,\n",
    "    'down': 4,\n",
    "    'left': -1,\n",
    "    'right': 1\n",
    "}\n",
    "\n",
    "def is_solvable(puzzle):\n",
    "    inv_count = 0\n",
    "    lst = list(puzzle)\n",
    "    for i in range(15):\n",
    "        for j in range(i + 1, 16):\n",
    "            if lst[i] != 0 and lst[j] != 0 and lst[i] > lst[j]:\n",
    "                inv_count += 1\n",
    "    zero_row = 3 - (puzzle.index(0) // 4)\n",
    "    return (inv_count + zero_row) % 2 == 0\n",
    "\n",
    "def manhattan(state):\n",
    "    distance = 0\n",
    "    for i in range(16):\n",
    "        if state[i] == 0:\n",
    "            continue\n",
    "        x, y = divmod(i, 4)\n",
    "        goal_x, goal_y = divmod(state[i] - 1, 4)\n",
    "        distance += abs(x - goal_x) + abs(y - goal_y)\n",
    "    return distance\n",
    "\n",
    "def get_neighbors(state):\n",
    "    neighbors = []\n",
    "    zero_index = state.index(0)\n",
    "    x, y = divmod(zero_index, 4)\n",
    "    for move, delta in MOVES.items():\n",
    "        new_index = zero_index + delta\n",
    "        if move == 'left' and y == 0:\n",
    "            continue\n",
    "        if move == 'right' and y == 3:\n",
    "            continue\n",
    "        if move == 'up' and x == 0:\n",
    "            continue\n",
    "        if move == 'down' and x == 3:\n",
    "            continue\n",
    "        new_state = list(state)\n",
    "        new_state[zero_index], new_state[new_index] = new_state[new_index], new_state[zero_index]\n",
    "        neighbors.append((tuple(new_state), new_state[zero_index]))  # запоминаем какой элемент передвинули\n",
    "    return neighbors\n",
    "\n",
    "def solve(puzzle):\n",
    "    start = t.now()\n",
    "    if not is_solvable(puzzle):\n",
    "        print(\"Решения нет.\")\n",
    "        return []\n",
    "\n",
    "    open_set = []\n",
    "    heappush(open_set, (manhattan(puzzle), 0, puzzle, []))\n",
    "    visited = set()\n",
    "\n",
    "    while open_set:\n",
    "        f, g, state, path = heappop(open_set)\n",
    "        if state == GOAL_STATE:\n",
    "            print(\"Решение найдено за\", t.now() - start)\n",
    "            return path\n",
    "        if state in visited:\n",
    "            continue\n",
    "        visited.add(state)\n",
    "        for neighbor, moved_tile in get_neighbors(state):\n",
    "            if neighbor not in visited:\n",
    "                heappush(open_set, (\n",
    "                    g + 1 + manhattan(neighbor),\n",
    "                    g + 1,\n",
    "                    neighbor,\n",
    "                    path + [moved_tile]\n",
    "                ))\n",
    "    return []\n",
    "\n",
    "user_input = input(\"Введите 16 чисел через пробел (0 — пустая клетка): \")\n",
    "numbers = list(map(int, user_input.strip().split()))\n",
    "if len(numbers) != 16:\n",
    "    print(\"Ошибка: нужно ввести ровно 16 чисел.\")\n",
    "else:\n",
    "    result = solve(tuple(numbers))\n",
    "    if result:\n",
    "        print(\"Решение найдено. Последовательность передвигаемых плиток:\")\n",
    "        print(result)\n",
    "    else:\n",
    "        print(\"Нет решения.\")"
   ]
  },
  {
   "cell_type": "markdown",
   "id": "arbitrary-amazon",
   "metadata": {
    "id": "arbitrary-amazon"
   },
   "source": [
    "### Вывод"
   ]
  },
  {
   "cell_type": "markdown",
   "id": "71bc58bf",
   "metadata": {
    "id": "71bc58bf"
   },
   "source": []
  }
 ],
 "metadata": {
  "colab": {
   "provenance": []
  },
  "kernelspec": {
   "display_name": "Python 3",
   "language": "python",
   "name": "python3"
  },
  "language_info": {
   "codemirror_mode": {
    "name": "ipython",
    "version": 3
   },
   "file_extension": ".py",
   "mimetype": "text/x-python",
   "name": "python",
   "nbconvert_exporter": "python",
   "pygments_lexer": "ipython3",
   "version": "3.13.2"
  }
 },
 "nbformat": 4,
 "nbformat_minor": 5
}
