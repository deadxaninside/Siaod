{
 "cells": [
  {
   "cell_type": "markdown",
   "id": "fifteen-sailing",
   "metadata": {
    "id": "fifteen-sailing"
   },
   "source": [
    "# Лабораторная работа №2\n",
    "## Выполнил студент группы БПИ2305 Афимина София"
   ]
  },
  {
   "cell_type": "markdown",
   "id": "arctic-stocks",
   "metadata": {
    "id": "arctic-stocks"
   },
   "source": [
    "Реализовать следующие структуры данных:\n",
    "  \n",
    "● <b> Стек (stack): </b>  \n",
    "Операции для стека:\n",
    "<i> инициализация, проверка на пустоту, добавление нового элемента в начало, извлечение элемента из начала;  </i>  \n",
    "  \n",
    "● <b> Дек (двусторонняя очередь, deque):  </b>  \n",
    "Операции для дека:\n",
    "<i> инициализация, проверка на пустоту, добавление нового элемента в начало, добавление нового элемента в конец, извлечение элемента из начала, извлечение элемента из конца. </i>  \n",
    "  \n",
    "<i> Разработать программу обработки данных, содержащихся в заранее подготовленном txt-файле, в соответствии с заданиями, применив указанную в задании структуру данных. Результат работы программы вывести на экран и сохранить в отдельном txt-файле. </i>"
   ]
  },
  {
   "cell_type": "markdown",
   "id": "5d7edb08",
   "metadata": {
    "id": "5d7edb08",
    "scrolled": true
   },
   "source": [
    "### Задание №1\n",
    "Отсортировать строки файла, содержащие названия книг, в алфавитном порядке с использованием двух деков."
   ]
  },
  {
   "cell_type": "code",
   "execution_count": 27,
   "id": "17702ade",
   "metadata": {
    "id": "17702ade"
   },
   "outputs": [
    {
     "name": "stdout",
     "output_type": "stream",
     "text": [
      "Файл sorted_books.txt успешно создан!\n"
     ]
    }
   ],
   "source": [
    "class Node:\n",
    "    def __init__(self, value):\n",
    "        self.value = value\n",
    "        self.next = None\n",
    "        self.prev = None\n",
    "\n",
    "\n",
    "class Deque:\n",
    "    def __init__(self):\n",
    "        self.front = None\n",
    "        self.rear = None\n",
    "\n",
    "    def is_empty(self):\n",
    "        return self.front is None\n",
    "\n",
    "    def add_rear(self, value):\n",
    "        new_node = Node(value)\n",
    "        if self.is_empty():\n",
    "            self.front = self.rear = new_node\n",
    "        else:\n",
    "            self.rear.next = new_node\n",
    "            new_node.prev = self.rear\n",
    "            self.rear = new_node\n",
    "\n",
    "    def add_front(self, value):\n",
    "        new_node = Node(value)\n",
    "        if self.is_empty():\n",
    "            self.front = self.rear = new_node\n",
    "        else:\n",
    "            new_node.next = self.front\n",
    "            self.front.prev = new_node\n",
    "            self.front = new_node\n",
    "\n",
    "    def remove_front(self):\n",
    "        if self.is_empty():\n",
    "            return None\n",
    "        value = self.front.value\n",
    "        self.front = self.front.next\n",
    "        if self.front:\n",
    "            self.front.prev = None\n",
    "        else:\n",
    "            self.rear = None  \n",
    "        return value\n",
    "\n",
    "    def remove_rear(self):\n",
    "        if self.is_empty():\n",
    "            return None\n",
    "        value = self.rear.value\n",
    "        self.rear = self.rear.prev\n",
    "        if self.rear:\n",
    "            self.rear.next = None\n",
    "        else:\n",
    "            self.front = None  \n",
    "        return value\n",
    "\n",
    "    def to_list(self):\n",
    "        current = self.front\n",
    "        result = []\n",
    "        while current:\n",
    "            result.append(current.value)\n",
    "            current = current.next\n",
    "        return result\n",
    "\n",
    "\n",
    "def sort_books():\n",
    "    with open(\"books.txt\", \"r\", encoding=\"utf-8\") as file:\n",
    "        books = [line.strip() for line in file.readlines() if line.strip()]\n",
    "\n",
    "    if not books:\n",
    "        print(\"Файл пуст, сортировать нечего.\")\n",
    "        return\n",
    "\n",
    "    main_deque = Deque()\n",
    "    temp_deque = Deque()\n",
    "\n",
    "    for book in books:\n",
    "        main_deque.add_rear(book)\n",
    "\n",
    "    sorted_deque = Deque()\n",
    "    while not main_deque.is_empty():\n",
    "        current_book = main_deque.remove_front()\n",
    "        while not sorted_deque.is_empty() and sorted_deque.rear.value > current_book:\n",
    "            temp_deque.add_front(sorted_deque.remove_rear())\n",
    "\n",
    "        sorted_deque.add_rear(current_book)\n",
    "\n",
    "        while not temp_deque.is_empty():\n",
    "            sorted_deque.add_rear(temp_deque.remove_front())\n",
    "\n",
    "    with open(\"sorted_books.txt\", \"w\", encoding=\"utf-8\") as file:\n",
    "        for book in sorted_deque.to_list():\n",
    "            file.write(book + \"\\n\")\n",
    "\n",
    "    print(\"Файл sorted_books.txt успешно создан!\")\n",
    "\n",
    "\n",
    "sort_books()"
   ]
  },
  {
   "cell_type": "markdown",
   "id": "49fbd2a0",
   "metadata": {
    "id": "49fbd2a0"
   },
   "source": [
    "### Задание №2\n",
    "Дек содержит последовательность символов для шифровки сообщений. Дан текстовый файл, содержащий зашифрованное сообщение. Пользуясь деком, расшифровать текст.\n",
    "Известно, что при шифровке каждый символ сообщения заменялся следующим за ним в деке по часовой стрелке через один."
   ]
  },
  {
   "cell_type": "code",
   "execution_count": null,
   "id": "81cab7a8",
   "metadata": {
    "id": "81cab7a8"
   },
   "outputs": [
    {
     "name": "stdout",
     "output_type": "stream",
     "text": [
      "\n",
      "Расшифрованное сообщение: Hey\n"
     ]
    }
   ],
   "source": [
    "class Node:\n",
    "    def __init__(self, value):\n",
    "        self.value = value\n",
    "        self.next = None\n",
    "        self.prev = None\n",
    "\n",
    "\n",
    "class Deque:\n",
    "    def __init__(self):\n",
    "        self.front = None\n",
    "        self.rear = None\n",
    "\n",
    "    def is_empty(self):\n",
    "        return self.front is None\n",
    "\n",
    "    def add_rear(self, value):\n",
    "        new_node = Node(value)\n",
    "        if self.is_empty():\n",
    "            self.front = self.rear = new_node\n",
    "            self.front.next = self.front.prev = new_node  \n",
    "        else:\n",
    "            new_node.prev = self.rear\n",
    "            new_node.next = self.front\n",
    "            self.rear.next = new_node\n",
    "            self.front.prev = new_node\n",
    "            self.rear = new_node\n",
    "\n",
    "    def rotate_left(self):\n",
    "        if not self.is_empty():\n",
    "            self.front = self.front.next\n",
    "            self.rear = self.rear.next\n",
    "\n",
    "    def find_previous(self, char):\n",
    "        current = self.front\n",
    "        while current:\n",
    "            if current.value == char:\n",
    "                return current.prev.value\n",
    "            current = current.next\n",
    "            if current == self.front:\n",
    "                break\n",
    "        return char\n",
    "\n",
    "\n",
    "def decrypt_message():\n",
    "    with open(\"encrypted_message.txt\", \"r\", encoding=\"utf-8\") as file:\n",
    "        encrypted_text = file.read().strip()\n",
    "\n",
    "    alphabet = Deque()\n",
    "    for char in \"abcdefghijklmnopqrstuvwxyz\":\n",
    "        alphabet.add_rear(char)\n",
    "\n",
    "    decrypted_text = \"\"\n",
    "    for char in encrypted_text:\n",
    "        if char.isalpha(): \n",
    "            decrypted_text += alphabet.find_previous(char)\n",
    "        else:\n",
    "            decrypted_text += char\n",
    "    print(\"\\nРасшифрованное сообщение:\", decrypted_text)\n",
    "    with open(\"decrypted_message.txt\", \"w\", encoding=\"utf-8\") as file:\n",
    "        file.write(decrypted_text)\n",
    "\n",
    "\n",
    "decrypt_message()"
   ]
  },
  {
   "cell_type": "markdown",
   "id": "c0894f47",
   "metadata": {
    "id": "c0894f47"
   },
   "source": [
    "### Задание №3\n",
    "Даны три стержня и n дисков различного размера. Диски можно надевать на стержни, образуя из них башни. Перенести n дисков со стержня А на стержень С, сохранив их первоначальный порядок. При переносе дисков необходимо соблюдать следующие правила:\n",
    "- на каждом шаге со стержня на стержень переносить только один диск;\n",
    "- диск нельзя помещать на диск меньшего размера;\n",
    "- для промежуточного хранения можно использовать стержень В.\n",
    "Реализовать алгоритм, используя три стека вместо стержней А, В, С. Информация о дисках хранится в исходном файле."
   ]
  },
  {
   "cell_type": "code",
   "execution_count": 28,
   "id": "9e91a9d4",
   "metadata": {
    "id": "9e91a9d4"
   },
   "outputs": [
    {
     "name": "stdout",
     "output_type": "stream",
     "text": [
      "Файл hanoi_output.txt успешно создан!\n"
     ]
    }
   ],
   "source": [
    "class Node:\n",
    "    def __init__(self, data):\n",
    "        self.data = data\n",
    "        self.next = None\n",
    "\n",
    "\n",
    "class Stack:\n",
    "    def __init__(self):\n",
    "        self.top = None\n",
    "\n",
    "    def is_empty(self):\n",
    "        return self.top is None\n",
    "\n",
    "    def push(self, data):\n",
    "        new_node = Node(data)\n",
    "        new_node.next = self.top\n",
    "        self.top = new_node\n",
    "\n",
    "    def pop(self):\n",
    "        if self.is_empty():\n",
    "            return None\n",
    "        data = self.top.data\n",
    "        self.top = self.top.next\n",
    "        return data\n",
    "\n",
    "    def peek(self):\n",
    "        return self.top.data if self.top else None\n",
    "\n",
    "    def to_list(self):\n",
    "        result = []\n",
    "        current = self.top\n",
    "        while current:\n",
    "            result.append(current.data)\n",
    "            current = current.next\n",
    "        return result[::-1]  \n",
    "\n",
    "\n",
    "def move_disks(n, source, target, auxiliary, moves):\n",
    "    if n > 0:\n",
    "        move_disks(n - 1, source, auxiliary, target, moves) \n",
    "        disk = source.pop()  \n",
    "        target.push(disk)\n",
    "        moves.append((disk, source_name[source], source_name[target])) \n",
    "        move_disks(n - 1, auxiliary, target, source, moves) \n",
    "\n",
    "\n",
    "def hanoi_solver():\n",
    "    with open(\"hanoi_input.txt\", \"r\") as file:\n",
    "        disks = [int(line.strip()) for line in file.readlines()]  \n",
    "\n",
    "    n = len(disks) \n",
    "\n",
    "    source = Stack()\n",
    "    auxiliary = Stack()\n",
    "    target = Stack()\n",
    "\n",
    "    for disk in reversed(disks):\n",
    "        source.push(disk)\n",
    "\n",
    "    global source_name\n",
    "    source_name = {source: \"A\", auxiliary: \"B\", target: \"C\"}\n",
    "\n",
    "    moves = [] \n",
    "\n",
    "    move_disks(n, source, target, auxiliary, moves)\n",
    "\n",
    "    with open(\"hanoi_output.txt\", \"w\") as file:\n",
    "        for move in moves:\n",
    "            file.write(f\"Переместить диск {move[0]} со стержня {move[1]} на стержень {move[2]}\\n\")\n",
    "\n",
    "    print(\"Файл hanoi_output.txt успешно создан!\")\n",
    "\n",
    "\n",
    "hanoi_solver()"
   ]
  },
  {
   "cell_type": "markdown",
   "id": "e5b0be17",
   "metadata": {
    "id": "e5b0be17"
   },
   "source": [
    "### Задание №4\n",
    "Дан текстовый файл с программой на алгоритмическом языке. За один просмотр файла проверить баланс круглых скобок в тексте, используя стек."
   ]
  },
  {
   "cell_type": "code",
   "execution_count": 29,
   "id": "5b1df60a",
   "metadata": {
    "id": "5b1df60a"
   },
   "outputs": [
    {
     "name": "stdout",
     "output_type": "stream",
     "text": [
      "Баланс скобок корректен\n"
     ]
    }
   ],
   "source": [
    "class Node:\n",
    "    def __init__(self, data):\n",
    "        self.data = data\n",
    "        self.next = None\n",
    "\n",
    "class Stack:\n",
    "    def __init__(self):\n",
    "        self.top = None\n",
    "\n",
    "    def is_empty(self):\n",
    "        return self.top is None\n",
    "\n",
    "    def push(self, item):\n",
    "        new_node = Node(item)\n",
    "        new_node.next = self.top\n",
    "        self.top = new_node\n",
    "\n",
    "    def pop(self):\n",
    "        if self.is_empty():\n",
    "            return None\n",
    "        value = self.top.data\n",
    "        self.top = self.top.next\n",
    "        return value\n",
    "\n",
    "    def peek(self):\n",
    "        return self.top.data if self.top else None\n",
    "\n",
    "def check_parentheses_balance():\n",
    "    try:\n",
    "        with open(\"program_code.txt\", \"r\", encoding=\"utf-8\") as file:\n",
    "            code = file.read()\n",
    "    except Exception as e:\n",
    "        print(\"Ошибка чтения файла program_code.txt:\", e)\n",
    "        return\n",
    "\n",
    "    stack = Stack()\n",
    "    for char in code:\n",
    "        if char == \"(\":\n",
    "            stack.push(char)\n",
    "        elif char == \")\":\n",
    "            if stack.is_empty():\n",
    "                result = \"Ошибка: лишняя закрывающая скобка ')'\"\n",
    "                break\n",
    "            stack.pop()\n",
    "    else:\n",
    "        result = \"Баланс скобок корректен\" if stack.is_empty() else \"Ошибка: лишняя открывающая скобка '('\"\n",
    "\n",
    "    print(result)\n",
    "    \n",
    "    with open(\"brackets_output.txt\", \"w\", encoding=\"utf-8\") as file:\n",
    "        file.write(result)\n",
    "\n",
    "check_parentheses_balance()"
   ]
  },
  {
   "cell_type": "markdown",
   "id": "c44cdd6b",
   "metadata": {
    "id": "c44cdd6b"
   },
   "source": [
    "### Задание №5\n",
    "Дан текстовый файл с программой на алгоритмическом языке. За один просмотр файла проверить баланс квадратных скобок в тексте, используя дек."
   ]
  },
  {
   "cell_type": "code",
   "execution_count": 30,
   "id": "36b8f400",
   "metadata": {
    "id": "36b8f400"
   },
   "outputs": [
    {
     "name": "stdout",
     "output_type": "stream",
     "text": [
      "Ошибка: недостающая закрывающая квадратная скобка ]\n"
     ]
    }
   ],
   "source": [
    "class Node:\n",
    "    def __init__(self, data):\n",
    "        self.data = data\n",
    "        self.next = None\n",
    "        self.prev = None\n",
    "\n",
    "\n",
    "class Deque:\n",
    "    def __init__(self):\n",
    "        self.front = None\n",
    "        self.rear = None\n",
    "\n",
    "    def is_empty(self):\n",
    "        return self.front is None\n",
    "\n",
    "    def add_front(self, data):\n",
    "        new_node = Node(data)\n",
    "        if self.is_empty():\n",
    "            self.front = self.rear = new_node\n",
    "        else:\n",
    "            new_node.next = self.front\n",
    "            self.front.prev = new_node\n",
    "            self.front = new_node\n",
    "\n",
    "    def add_rear(self, data):\n",
    "        new_node = Node(data)\n",
    "        if self.is_empty():\n",
    "            self.front = self.rear = new_node\n",
    "        else:\n",
    "            new_node.prev = self.rear\n",
    "            self.rear.next = new_node\n",
    "            self.rear = new_node\n",
    "\n",
    "    def remove_front(self):\n",
    "        if self.is_empty():\n",
    "            return None\n",
    "        data = self.front.data\n",
    "        self.front = self.front.next\n",
    "        if self.front:\n",
    "            self.front.prev = None\n",
    "        return data\n",
    "\n",
    "    def remove_rear(self):\n",
    "        if self.is_empty():\n",
    "            return None\n",
    "        data = self.rear.data\n",
    "        self.rear = self.rear.prev\n",
    "        if self.rear:\n",
    "            self.rear.next = None\n",
    "        return data\n",
    "\n",
    "\n",
    "def check_square_brackets():\n",
    "    with open(\"programm_code.txt\", \"r\") as file:\n",
    "        code = file.read()\n",
    "\n",
    "    deque = Deque()\n",
    "\n",
    "    for char in code:\n",
    "        if char == '[':\n",
    "            deque.add_rear(char)\n",
    "        elif char == ']':\n",
    "            if deque.is_empty():\n",
    "                print(\"Ошибка: лишняя закрывающая квадратная скобка ]\")\n",
    "                return\n",
    "            deque.remove_rear()\n",
    "\n",
    "    if deque.is_empty():\n",
    "        print(\"Баланс квадратных скобок в порядке\")\n",
    "    else:\n",
    "        print(\"Ошибка: недостающая закрывающая квадратная скобка ]\")\n",
    "\n",
    "\n",
    "check_square_brackets()"
   ]
  },
  {
   "cell_type": "markdown",
   "id": "59d13dc7",
   "metadata": {
    "id": "59d13dc7"
   },
   "source": [
    "### Задание №6\n",
    "Дан файл из символов. Используя стек, за один просмотр файла напечатать сначала все цифры, затем все буквы, и, наконец, все остальные символы, сохраняя исходный порядок в каждой группе символов."
   ]
  },
  {
   "cell_type": "code",
   "execution_count": 31,
   "id": "297e36c2",
   "metadata": {
    "id": "297e36c2"
   },
   "outputs": [
    {
     "name": "stdout",
     "output_type": "stream",
     "text": [
      "Файл separated_typee.txt создан!\n"
     ]
    }
   ],
   "source": [
    "class Node:\n",
    "    def __init__(self, data):\n",
    "        self.data = data\n",
    "        self.next = None\n",
    "\n",
    "class Stack:\n",
    "    def __init__(self):\n",
    "        self.top = None\n",
    "\n",
    "    def is_empty(self):\n",
    "        return self.top is None\n",
    "\n",
    "    def push(self, item):\n",
    "        new_node = Node(item)\n",
    "        new_node.next = self.top\n",
    "        self.top = new_node\n",
    "\n",
    "    def pop(self):\n",
    "        if not self.is_empty():\n",
    "            item = self.top.data\n",
    "            self.top = self.top.next\n",
    "            return item\n",
    "        return None\n",
    "\n",
    "    def to_list(self):\n",
    "        items = []\n",
    "        current = self.top\n",
    "        while current:\n",
    "            items.append(current.data)\n",
    "            current = current.next\n",
    "        return items\n",
    "\n",
    "def separate_characters():\n",
    "    with open(\"typee.txt\", \"r\") as file:\n",
    "        text = file.read()\n",
    "\n",
    "    digits_stack = Stack()\n",
    "    letters_stack = Stack()\n",
    "    others_stack = Stack()\n",
    "\n",
    "    for char in text:\n",
    "        if char.isdigit():\n",
    "            digits_stack.push(char)\n",
    "        elif char.isalpha():\n",
    "            letters_stack.push(char)\n",
    "        else:\n",
    "            others_stack.push(char)\n",
    "\n",
    "    with open(\"separated_typee.txt\", \"w\") as file:\n",
    "        file.write(\"Цифры: \" + \"\".join(digits_stack.to_list()) + \"\\n\")\n",
    "        file.write(\"Буквы: \" + \"\".join(letters_stack.to_list()) + \"\\n\")\n",
    "        file.write(\"Остальные символы: \" + \"\".join(others_stack.to_list()) + \"\\n\")\n",
    "    print(\"Файл separated_typee.txt создан!\")\n",
    "\n",
    "separate_characters()"
   ]
  },
  {
   "cell_type": "markdown",
   "id": "973f68bd",
   "metadata": {
    "id": "973f68bd"
   },
   "source": [
    "### Задание №7\n",
    "Дан файл из целых чисел. Используя дек, за один просмотр файла напечатать сначала все отрицательные числа, затем все положительные числа, сохраняя исходный порядок в каждой группе."
   ]
  },
  {
   "cell_type": "code",
   "execution_count": 32,
   "id": "c56fad66",
   "metadata": {
    "id": "c56fad66"
   },
   "outputs": [
    {
     "name": "stdout",
     "output_type": "stream",
     "text": [
      "Файл grouped_numbers.txt создан!\n"
     ]
    }
   ],
   "source": [
    "class Node:\n",
    "    def __init__(self, data):\n",
    "        self.data = data\n",
    "        self.next = None\n",
    "        self.prev = None\n",
    "\n",
    "class Deque:\n",
    "    def __init__(self):\n",
    "        self.front = None\n",
    "        self.rear = None\n",
    "\n",
    "    def is_empty(self):\n",
    "        return self.front is None\n",
    "\n",
    "    def add_front(self, item):\n",
    "        new_node = Node(item)\n",
    "        if self.is_empty():\n",
    "            self.front = self.rear = new_node\n",
    "        else:\n",
    "            new_node.next = self.front\n",
    "            self.front.prev = new_node\n",
    "            self.front = new_node\n",
    "\n",
    "    def add_rear(self, item):\n",
    "        new_node = Node(item)\n",
    "        if self.is_empty():\n",
    "            self.front = self.rear = new_node\n",
    "        else:\n",
    "            new_node.prev = self.rear\n",
    "            self.rear.next = new_node\n",
    "            self.rear = new_node\n",
    "\n",
    "    def remove_front(self):\n",
    "        if not self.is_empty():\n",
    "            item = self.front.data\n",
    "            self.front = self.front.next\n",
    "            if self.front:\n",
    "                self.front.prev = None\n",
    "            return item\n",
    "        return None\n",
    "\n",
    "    def remove_rear(self):\n",
    "        if not self.is_empty():\n",
    "            item = self.rear.data\n",
    "            self.rear = self.rear.prev\n",
    "            if self.rear:\n",
    "                self.rear.next = None\n",
    "            return item\n",
    "        return None\n",
    "\n",
    "    def to_list(self):\n",
    "        items = []\n",
    "        current = self.front\n",
    "        while current:\n",
    "            items.append(current.data)\n",
    "            current = current.next\n",
    "        return items\n",
    "\n",
    "def separate_numbers():\n",
    "    with open(\"numbers.txt\", \"r\") as file:\n",
    "        numbers = [int(line.strip()) for line in file.readlines()]\n",
    "\n",
    "    negative_deque = Deque()\n",
    "    positive_deque = Deque()\n",
    "\n",
    "    for number in numbers:\n",
    "        if number < 0:\n",
    "            negative_deque.add_rear(number)\n",
    "        else:\n",
    "            positive_deque.add_rear(number)\n",
    "\n",
    "    with open(\"grouped_numbers.txt\", \"w\") as file:\n",
    "        file.write(\"Отрицательные числа: \" + \" \".join(map(str, negative_deque.to_list())) + \"\\n\")\n",
    "        file.write(\"Положительные числа: \" + \" \".join(map(str, positive_deque.to_list())) + \"\\n\")\n",
    "    print(\"Файл grouped_numbers.txt создан!\")\n",
    "\n",
    "separate_numbers()"
   ]
  },
  {
   "cell_type": "markdown",
   "id": "b9228191",
   "metadata": {
    "id": "b9228191"
   },
   "source": [
    "### Задание №8\n",
    "Дан текстовый файл. Используя стек, сформировать новый текстовый файл, содержащий строки исходного файла, записанные в обратном порядке: первая строка становится последней, вторая – предпоследней и т.д."
   ]
  },
  {
   "cell_type": "code",
   "execution_count": 33,
   "id": "981fbdfe",
   "metadata": {
    "id": "981fbdfe"
   },
   "outputs": [
    {
     "name": "stdout",
     "output_type": "stream",
     "text": [
      "Файл reversed_lines.txt успешно создан!\n"
     ]
    }
   ],
   "source": [
    "class Node:\n",
    "    def __init__(self, data):\n",
    "        self.data = data\n",
    "        self.next = None\n",
    "\n",
    "class Stack:\n",
    "    def __init__(self):\n",
    "        self.top = None\n",
    "\n",
    "    def is_empty(self):\n",
    "        return self.top is None\n",
    "\n",
    "    def push(self, item):\n",
    "        new_node = Node(item)\n",
    "        new_node.next = self.top\n",
    "        self.top = new_node\n",
    "\n",
    "    def pop(self):\n",
    "        if not self.is_empty():\n",
    "            item = self.top.data\n",
    "            self.top = self.top.next\n",
    "            return item\n",
    "        return None\n",
    "\n",
    "    def to_list(self):\n",
    "        items = []\n",
    "        current = self.top\n",
    "        while current:\n",
    "            items.append(current.data)\n",
    "            current = current.next\n",
    "        return items\n",
    "\n",
    "def reverse_lines():\n",
    "    with open(\"lines.txt\", \"r\") as file:\n",
    "        lines = file.readlines()\n",
    "\n",
    "    stack = Stack()\n",
    "\n",
    "    for line in lines:\n",
    "        stack.push(line.strip())\n",
    "\n",
    "    with open(\"reversed_lines.txt\", \"w\") as file:\n",
    "        while not stack.is_empty():\n",
    "            file.write(stack.pop() + \"\\n\")\n",
    "\n",
    "    print(\"Файл reversed_lines.txt успешно создан!\")\n",
    "\n",
    "reverse_lines()"
   ]
  },
  {
   "cell_type": "markdown",
   "id": "rental-jerusalem",
   "metadata": {
    "id": "rental-jerusalem"
   },
   "source": [
    "### Вывод\n"
   ]
  },
  {
   "cell_type": "markdown",
   "id": "0c2b8899",
   "metadata": {
    "id": "0c2b8899"
   },
   "source": []
  }
 ],
 "metadata": {
  "colab": {
   "provenance": [
    {
     "file_id": "1SJnopeql2j1MhzcaJ8o68KaPzPnynIeK",
     "timestamp": 1676536264821
    }
   ]
  },
  "kernelspec": {
   "display_name": "Python 3",
   "language": "python",
   "name": "python3"
  },
  "language_info": {
   "codemirror_mode": {
    "name": "ipython",
    "version": 3
   },
   "file_extension": ".py",
   "mimetype": "text/x-python",
   "name": "python",
   "nbconvert_exporter": "python",
   "pygments_lexer": "ipython3",
   "version": "3.13.2"
  }
 },
 "nbformat": 4,
 "nbformat_minor": 5
}
